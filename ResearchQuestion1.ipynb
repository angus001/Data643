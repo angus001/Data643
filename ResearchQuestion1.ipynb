{
 "cells": [
  {
   "cell_type": "markdown",
   "metadata": {
    "collapsed": true
   },
   "source": [
    "##Research Discussion Assignment 1"
   ]
  },
  {
   "cell_type": "markdown",
   "metadata": {},
   "source": [
    "Prompt:\n",
    "(A)\n",
    "Now that we have covered basic techniques for recommender systems, choose one commercial recommender and describe how you think it works (content-based, collaborative filtering, etc). Does the technique deliver a good experience or are the recommendations off-target?\n"
   ]
  },
  {
   "cell_type": "markdown",
   "metadata": {},
   "source": [
    "People will often associate recommendation systems with Netflix, Amazon, YouTube and other retail-based companies. However, I think Facebook has the most engaging if not the best recommendation system. Firstly, because it is based on our social network activities on a lighting fast digital platform. Humans are social creatures and our social activities are so important that we are innately ingrain to care about our friends’ pictures, foods and “check-in” to places. This drives billions of people to frequent Facebook. Facebook can intimately know our likes, dislike, relationship status, and yes, favorite foods. Facebook is so successful that it leads to a certain analytic company- “Cambridge Analytica” exploiting users’ data. These data are very powerful in terms of recommending digital or physical products to consumers because our social circle not only reflect our inclination but they can also be a major force that influence our behaviors. Therefore, a lot of posts or advertisements users see on Facebook are most likely based on friend-users collaborative filtering in combination with item-based filtering. After all, Facebook not only knows who and what we give a thumb up but also our personality traits data mined by some rouge applications. "
   ]
  },
  {
   "cell_type": "markdown",
   "metadata": {},
   "source": [
    "Prompt:(B)\n",
    "Attacks on Recommender System\n",
    "Read the article below and consider how to handle attacks on recommender systems. Can you think of a similar example where a collective effort to alter the workings of content recommendations have been successful? How would you design a system to prevent this kind of abuse?\n",
    "https://www.washingtonpost.com/news/morning-mix/wp/2017/04/19/wisdom-of-the-crowd-imdb-users-gang-up-on-the-promise-before-it-even-opens/?utm_term=.329a75ece088\n"
   ]
  },
  {
   "cell_type": "markdown",
   "metadata": {},
   "source": [
    "Attacks on recommender systems work mainly due to their reliance of free users inputs which cannot be systematically validated. A recommender system aim is to recommend a good product that matches a consumers’ needs and wants. However, if a good product is only good based solely on some anonymous person opinion, it surely can be exploited. Amazon and other online retailers are now giving more weights to opinions of “verified buyers” who have actually purchased the goods. In the case of the movie mentioned in The Washington Post, the data scientists can also rely on similar method by incorporating similar methods by using data from actual movie viewers. Another check and balance that can be put in place is several logical rules to flag suspected attacks on the system. The flags then can be investigated by assigned staffs from cross-functional team. Just as data science is a multi-discipline fields, the challenges raised by it might only be solved by working with an inter-disciplinary team. "
   ]
  },
  {
   "cell_type": "markdown",
   "metadata": {},
   "source": [
    "Reference:\n",
    "https://www.amazon.com/gp/help/customer/display.html/ref=hp_20079100_verifiedreviews?nodeId=201145140\n",
    "\n",
    "https://code.facebook.com/posts/861999383875667/recommending-items-to-more-than-a-billion-people\n"
   ]
  }
 ],
 "metadata": {
  "kernelspec": {
   "display_name": "Python 2",
   "language": "python",
   "name": "python2"
  },
  "language_info": {
   "codemirror_mode": {
    "name": "ipython",
    "version": 2
   },
   "file_extension": ".py",
   "mimetype": "text/x-python",
   "name": "python",
   "nbconvert_exporter": "python",
   "pygments_lexer": "ipython2",
   "version": "2.7.6"
  }
 },
 "nbformat": 4,
 "nbformat_minor": 0
}
