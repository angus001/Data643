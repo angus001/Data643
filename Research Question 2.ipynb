{
 "cells": [
  {
   "cell_type": "markdown",
   "metadata": {
    "collapsed": true
   },
   "source": [
    " Summarize what you found to be the most important or interesting points after watching the following video by Christopher Johnson who was a data scientist at spotify.<br>\n",
    " https://www.youtube.com/watch?v=3LBgiFch4_g&feature=youtu.be"
   ]
  },
  {
   "cell_type": "markdown",
   "metadata": {},
   "source": [
    "## 1)\tGraphLab performed better than Spark <br>\n",
    "The number one surprising point from the video was that GraphLab outperformed a custom built Spark library- MLlib by Johnson and team. In the video, it was show that GraphLab only took 291 seconds to perform ALS algorithm whereas MLib took 481 seconds. Johnson did argue Graphlab was too specific and imply won’t be good for “general purpose” systems. I wonder how much GraphLab can be scaled up with AWS. Spark does support python language and scala.  \n"
   ]
  },
  {
   "cell_type": "markdown",
   "metadata": {},
   "source": [
    "2)\tIO Bottle Neck & Gridify <br>\n",
    "Hadoop and Spark are considered both big data tools to be able handle millions of observations. Johnson’s video however showed that since Hadoop had to write to disk for iterative recommendation system, it suffered from IO bottle neck problem. On the other hands, Spark was able to store the ratings of the customers into memory and each iteration only need an eigenvector calculation. Therefore, the IO bottle neck problem was solved.\n"
   ]
  },
  {
   "cell_type": "markdown",
   "metadata": {},
   "source": [
    "3)\tALS <br>\n",
    "\n",
    "I have mostly forgotten ALS- alternate least square regression. A quick online search showed a good tutorial on how it can be used for recommendation system. Both tutorials were written in Python. \n"
   ]
  },
  {
   "cell_type": "markdown",
   "metadata": {},
   "source": [
    "Reference <br>\n",
    "\n",
    "https://blog.insightdatascience.com/explicit-matrix-factorization-als-sgd-and-all-that-jazz-b00e4d9b21ea\n",
    "<br>\n",
    "https://bugra.github.io/work/notes/2014-04-19/alternating-least-squares-method-for-collaborative-filtering/\n",
    "\n"
   ]
  }
 ],
 "metadata": {
  "kernelspec": {
   "display_name": "Python 2",
   "language": "python",
   "name": "python2"
  },
  "language_info": {
   "codemirror_mode": {
    "name": "ipython",
    "version": 2
   },
   "file_extension": ".py",
   "mimetype": "text/x-python",
   "name": "python",
   "nbconvert_exporter": "python",
   "pygments_lexer": "ipython2",
   "version": "2.7.6"
  }
 },
 "nbformat": 4,
 "nbformat_minor": 0
}
